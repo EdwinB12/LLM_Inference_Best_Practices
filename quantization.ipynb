{
 "cells": [
  {
   "cell_type": "markdown",
   "metadata": {},
   "source": [
    "## Imports"
   ]
  },
  {
   "cell_type": "code",
   "execution_count": null,
   "metadata": {},
   "outputs": [],
   "source": [
    "import huggingface_hub\n",
    "import os\n",
    "\n",
    "import torch\n",
    "from huggingface_hub import login\n",
    "import os\n",
    "import pandas as pd\n",
    "from transformers import AutoTokenizer, AutoModelForCausalLM\n",
    "import time\n",
    "import transformers\n",
    "import matplotlib.pyplot as plt\n",
    "\n",
    "from utils import bytes_to_giga_bytes"
   ]
  },
  {
   "cell_type": "markdown",
   "metadata": {},
   "source": [
    "## Constants"
   ]
  },
  {
   "cell_type": "code",
   "execution_count": null,
   "metadata": {},
   "outputs": [],
   "source": [
    "torch.cuda.memory_allocated()/1e9"
   ]
  },
  {
   "cell_type": "code",
   "execution_count": null,
   "metadata": {},
   "outputs": [],
   "source": [
    "TOKEN_PATH = \".secrets/hf_token.txt\"\n",
    "MODEL_ID = \"meta-llama/Meta-Llama-3-8B\"\n",
    "\n",
    "QUANTIZATION_CONFIG = {\"load_in_4bit\": True}"
   ]
  },
  {
   "cell_type": "markdown",
   "metadata": {},
   "source": [
    "## Download Model and Tokenizer"
   ]
  },
  {
   "cell_type": "code",
   "execution_count": null,
   "metadata": {},
   "outputs": [],
   "source": [
    "# read huggingface token from hf_token.txt\n",
    "with open(TOKEN_PATH, \"r\") as f:\n",
    "    hf_token = f.read().strip()\n",
    "\n",
    "login(hf_token)"
   ]
  },
  {
   "cell_type": "code",
   "execution_count": null,
   "metadata": {},
   "outputs": [],
   "source": [
    "model = AutoModelForCausalLM.from_pretrained(MODEL_ID, quantization_config=QUANTIZATION_CONFIG, device_map=0)"
   ]
  },
  {
   "cell_type": "code",
   "execution_count": null,
   "metadata": {},
   "outputs": [],
   "source": [
    "# Plot a subset of the weights in the model\n",
    "def plot_weights(model, layer=0):\n",
    "    weights = model.transformer.h[layer].weight.detach().cpu().numpy()\n",
    "    plt.imshow(weights, aspect='auto')\n",
    "    plt.colorbar()\n",
    "    plt.show()"
   ]
  },
  {
   "cell_type": "code",
   "execution_count": null,
   "metadata": {},
   "outputs": [],
   "source": [
    "tokenizer = AutoTokenizer.from_pretrained(MODEL_ID)"
   ]
  },
  {
   "cell_type": "markdown",
   "metadata": {},
   "source": [
    "print out memory usage"
   ]
  },
  {
   "cell_type": "code",
   "execution_count": null,
   "metadata": {},
   "outputs": [],
   "source": [
    "bytes_to_giga_bytes(torch.cuda.memory_allocated())"
   ]
  },
  {
   "cell_type": "markdown",
   "metadata": {},
   "source": [
    "Write function for making a forward pass"
   ]
  },
  {
   "cell_type": "code",
   "execution_count": null,
   "metadata": {},
   "outputs": [],
   "source": [
    "tokenizer.encode(\"Hello, my dog is cute\", return_tensors=\"pt\")"
   ]
  },
  {
   "cell_type": "code",
   "execution_count": null,
   "metadata": {},
   "outputs": [],
   "source": [
    "def get_n_word_prob_dict(prompt, model, tokenizer, n=5):\n",
    "    \"\"\"\n",
    "    Returns a dictionary of the top n most likely words to be predicted next with the corresponding probability\n",
    "    \"\"\"\n",
    "\n",
    "    # Tokenize the input prompt\n",
    "    encoded_input = tokenizer.encode(prompt, return_tensors='pt').to(model.device)\n",
    "\n",
    "    # predict next tokens\n",
    "    outputs = model(encoded_input)\n",
    "\n",
    "    # Get logits from  the final output and convert to probabilities\n",
    "    probs = outputs.logits[0, -1:].softmax(dim=1).detach().cpu().flatten().numpy()\n",
    "\n",
    "    # Sort probabilities and pick top n examples\n",
    "    top_n_tokens = probs.argsort()[::-1][:n]\n",
    "\n",
    "    # Decode all top n words\n",
    "    top_n_words = [tokenizer.decode(token) for token in top_n_tokens]\n",
    "\n",
    "    # Output\n",
    "    output_seq = tokenizer.decode(model.generate(encoded_input, max_length=len(encoded_input[0]) + 1)[0], skip_special_tokens=True)\n",
    "\n",
    "    # Return dictionary of words and corresponding probability\n",
    "    return  output_seq, dict(zip(top_n_words, probs[top_n_tokens]))"
   ]
  },
  {
   "cell_type": "code",
   "execution_count": null,
   "metadata": {},
   "outputs": [],
   "source": [
    "def plot(prob_dict, prompt):\n",
    "    fig, ax = plt.subplots()\n",
    "    ax.bar(prob_dict.keys(), prob_dict.values())\n",
    "    ax.set_title(prompt + ' . . .')\n",
    "    ax.set_ylabel('Probability')\n",
    "    return ax"
   ]
  },
  {
   "cell_type": "markdown",
   "metadata": {},
   "source": [
    "## Make"
   ]
  },
  {
   "cell_type": "code",
   "execution_count": null,
   "metadata": {},
   "outputs": [],
   "source": [
    "prompt = 'I went to the supermarket and bought a'\n",
    "output_seq, prob_dict = get_n_word_prob_dict(prompt, model, tokenizer, n=50)"
   ]
  },
  {
   "cell_type": "code",
   "execution_count": null,
   "metadata": {},
   "outputs": [],
   "source": [
    "prob_dict"
   ]
  },
  {
   "cell_type": "code",
   "execution_count": null,
   "metadata": {},
   "outputs": [],
   "source": [
    "torch.cuda.max_memory_allocated()/1e9"
   ]
  }
 ],
 "metadata": {
  "kernelspec": {
   "display_name": "llama3",
   "language": "python",
   "name": "python3"
  },
  "language_info": {
   "codemirror_mode": {
    "name": "ipython",
    "version": 3
   },
   "file_extension": ".py",
   "mimetype": "text/x-python",
   "name": "python",
   "nbconvert_exporter": "python",
   "pygments_lexer": "ipython3",
   "version": "3.11.9"
  }
 },
 "nbformat": 4,
 "nbformat_minor": 2
}
